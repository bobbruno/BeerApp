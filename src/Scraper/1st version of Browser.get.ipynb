{
 "metadata": {
  "name": ""
 },
 "nbformat": 3,
 "nbformat_minor": 0,
 "worksheets": [
  {
   "cells": [
    {
     "cell_type": "code",
     "collapsed": false,
     "input": [
      "import bs4\n",
      "import codecs\n",
      "import os\n",
      "import random\n",
      "import socket\n",
      "import time\n",
      "import urllib2\n",
      "from urlparse import urlparse\n",
      "\n",
      "import socks\n",
      "\n",
      "\n",
      "def create_connection(address, timeout=None, source_address=None):\n",
      "    sock = socks.socksocket()\n",
      "    sock.connect(address)\n",
      "    return sock\n",
      "\n",
      "nGets = 0\n",
      "useCache = True\n",
      "SCRAPER_CACHE_DIR = '/home/bobbruno/workspace/BeerApp/dumps/'\n",
      "\n",
      "\n",
      "def getSite(site):\n",
      "    '''\n",
      "    Downloads a site through a proxy (different one each time) and up to\n",
      "    100 retries.\n",
      "    :param site: str Site URL\n",
      "    :rtype: str HTML\n",
      "    '''\n",
      "\n",
      "    print 'getting {}\\n'.format(site)\n",
      "    global nGets\n",
      "    parsedURL = urlparse(site)\n",
      "    path = parsedURL.path\n",
      "    if (path == ''):\n",
      "        path = 'INDEX'\n",
      "    if (path[0] == '/'):\n",
      "        path = path[1:]\n",
      "    if (path[-1] == '/'):\n",
      "        path = '{}INDEX'.format(path)\n",
      "    dirPath = os.path.split(path)[0]\n",
      "    cacheDir = os.path.join(SCRAPER_CACHE_DIR, parsedURL.netloc, dirPath)\n",
      "    cacheFile = os.path.join(SCRAPER_CACHE_DIR, parsedURL.netloc, path)\n",
      "\n",
      "    if useCache:\n",
      "        if os.path.isfile(cacheFile):\n",
      "            inputStream = codecs.open(cacheFile, 'r', encoding='utf8')\n",
      "            html = inputStream.readlines()\n",
      "            inputStream.close()\n",
      "            return u''.join(html)\n",
      "        else:\n",
      "            tryCounter = 0\n",
      "            time.sleep(random.expovariate(1 / 1.))\n",
      "            while True:\n",
      "                try:\n",
      "                    nGets += 1\n",
      "                    request = urllib2.Request(site)\n",
      "                    request.add_header('User-Agent', 'Mozilla/5.0 (Windows NT 6.1; rv:27.3) Gecko/20130101 Firefox/27.3')\n",
      "                    opener = urllib2.build_opener(urllib2.HTTPCookieProcessor())\n",
      "                    retVal = opener.open(request, timeout=30)\n",
      "                    theHTML = retVal.read()\n",
      "                    if useCache:\n",
      "                        if not os.path.exists(cacheDir):\n",
      "                            os.makedirs(cacheDir)\n",
      "                        fstream = codecs.open(cacheFile, 'w', encoding='utf8')\n",
      "                        fstream.write(theHTML.decode('latin-1'))\n",
      "                        fstream.close()\n",
      "                    return theHTML\n",
      "                except Exception, e:\n",
      "                    tryCounter += 1\n",
      "                    print 'Getting {} did not work ({})'.format(site, str(e))\n",
      "                    if tryCounter >= 20:\n",
      "                        print 'Could not get {}: Error {}'.format(site, str(e))\n",
      "                        raise e\n",
      "                    else:\n",
      "                        continue\n",
      "                else:\n",
      "                    break\n",
      "    else:\n",
      "        tryCounter = 0\n",
      "        time.sleep(random.expovariate(1 / 1.))\n",
      "        while True:\n",
      "            try:\n",
      "                nGets += 1\n",
      "                request = urllib2.Request(site)\n",
      "                request.add_header('User-Agent', 'Mozilla/5.0 (Windows NT 6.1; rv:27.3) Gecko/20130101 Firefox/27.3')\n",
      "                opener = urllib2.build_opener(urllib2.HTTPCookieProcessor())\n",
      "                retVal = opener.open(request, timeout=30)\n",
      "                theHTML = retVal.read()\n",
      "                return theHTML\n",
      "            except Exception, e:\n",
      "                tryCounter += 1\n",
      "                print 'Getting {} did not work ({})'.format(site, str(e))\n",
      "                if tryCounter >= 20:\n",
      "                    print 'Could not get {}: Error {}'.format(site, str(e))\n",
      "                    raise e\n",
      "                else:\n",
      "                    continue\n",
      "            else:\n",
      "                break\n",
      "\n",
      "socks.setdefaultproxy(socks.PROXY_TYPE_SOCKS5, \"127.0.0.1\", 9050)\n",
      "#  patch the socket module\n",
      "socket.socket = socks.socksocket\n",
      "socket.create_connection = create_connection"
     ],
     "language": "python",
     "metadata": {},
     "outputs": [
      {
       "output_type": "stream",
       "stream": "stderr",
       "text": [
        "<input>:87: SyntaxWarning: name 'nGets' is assigned to before global declaration\n",
        "<input>:87: SyntaxWarning: name 'nGets' is assigned to before global declaration\n",
        "<input>:87: SyntaxWarning: name 'nGets' is assigned to before global declaration\n",
        "<input>:87: SyntaxWarning: name 'nGets' is assigned to before global declaration\n",
        "<input>:87: SyntaxWarning: name 'nGets' is assigned to before global declaration\n",
        "<input>:87: SyntaxWarning: name 'nGets' is assigned to before global declaration\n",
        "<input>:87: SyntaxWarning: name 'nGets' is assigned to before global declaration\n",
        "<input>:87: SyntaxWarning: name 'nGets' is assigned to before global declaration\n",
        "<input>:87: SyntaxWarning: name 'nGets' is assigned to before global declaration\n",
        "<input>:87: SyntaxWarning: name 'nGets' is assigned to before global declaration\n",
        "<input>:87: SyntaxWarning: name 'nGets' is assigned to before global declaration\n",
        "<input>:87: SyntaxWarning: name 'nGets' is assigned to before global declaration\n",
        "<input>:87: SyntaxWarning: name 'nGets' is assigned to before global declaration\n",
        "<input>:87: SyntaxWarning: name 'nGets' is assigned to before global declaration\n",
        "<input>:87: SyntaxWarning: name 'nGets' is assigned to before global declaration\n",
        "<input>:87: SyntaxWarning: name 'nGets' is assigned to before global declaration\n",
        "<input>:87: SyntaxWarning: name 'nGets' is assigned to before global declaration\n",
        "<input>:87: SyntaxWarning: name 'nGets' is assigned to before global declaration\n",
        "<input>:87: SyntaxWarning: name 'nGets' is assigned to before global declaration\n",
        "<input>:87: SyntaxWarning: name 'nGets' is assigned to before global declaration\n",
        "<input>:87: SyntaxWarning: name 'nGets' is assigned to before global declaration\n",
        "<input>:87: SyntaxWarning: name 'nGets' is assigned to before global declaration\n",
        "<input>:87: SyntaxWarning: name 'nGets' is assigned to before global declaration\n",
        "<input>:87: SyntaxWarning: name 'nGets' is assigned to before global declaration\n",
        "<input>:87: SyntaxWarning: name 'nGets' is assigned to before global declaration\n",
        "<input>:87: SyntaxWarning: name 'nGets' is assigned to before global declaration\n",
        "<input>:87: SyntaxWarning: name 'nGets' is assigned to before global declaration\n",
        "<input>:87: SyntaxWarning: name 'nGets' is assigned to before global declaration\n",
        "<input>:87: SyntaxWarning: name 'nGets' is assigned to before global declaration\n",
        "<input>:87: SyntaxWarning: name 'nGets' is assigned to before global declaration\n",
        "<input>:87: SyntaxWarning: name 'nGets' is assigned to before global declaration\n"
       ]
      },
      {
       "output_type": "stream",
       "stream": "stderr",
       "text": [
        "<input>:87: SyntaxWarning: name 'nGets' is assigned to before global declaration\n",
        "<input>:87: SyntaxWarning: name 'nGets' is assigned to before global declaration\n",
        "<input>:87: SyntaxWarning: name 'nGets' is assigned to before global declaration\n",
        "<input>:87: SyntaxWarning: name 'nGets' is assigned to before global declaration\n",
        "<input>:87: SyntaxWarning: name 'nGets' is assigned to before global declaration\n",
        "<input>:87: SyntaxWarning: name 'nGets' is assigned to before global declaration\n",
        "<input>:87: SyntaxWarning: name 'nGets' is assigned to before global declaration\n",
        "<input>:87: SyntaxWarning: name 'nGets' is assigned to before global declaration\n",
        "<input>:87: SyntaxWarning: name 'nGets' is assigned to before global declaration\n",
        "<input>:87: SyntaxWarning: name 'nGets' is assigned to before global declaration\n",
        "<input>:87: SyntaxWarning: name 'nGets' is assigned to before global declaration\n",
        "<ipython-input-11-20cacd2ac470>:87: SyntaxWarning: name 'nGets' is assigned to before global declaration\n",
        "  global nGets\n"
       ]
      }
     ],
     "prompt_number": 11
    },
    {
     "cell_type": "code",
     "collapsed": false,
     "input": [
      "useCache = False\n",
      "resposta = getSite('http://checkip.dyndns.org')"
     ],
     "language": "python",
     "metadata": {},
     "outputs": [
      {
       "output_type": "stream",
       "stream": "stdout",
       "text": [
        "getting http://checkip.dyndns.org\n",
        "\n"
       ]
      }
     ],
     "prompt_number": 16
    },
    {
     "cell_type": "code",
     "collapsed": false,
     "input": [
      "resposta"
     ],
     "language": "python",
     "metadata": {},
     "outputs": [
      {
       "metadata": {},
       "output_type": "pyout",
       "prompt_number": 17,
       "text": [
        "'<html><head><title>Current IP Check</title></head><body>Current IP Address: 5.135.167.82</body></html>\\r\\n'"
       ]
      }
     ],
     "prompt_number": 17
    }
   ],
   "metadata": {}
  }
 ]
}