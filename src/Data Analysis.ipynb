{
 "metadata": {
  "name": ""
 },
 "nbformat": 3,
 "nbformat_minor": 0,
 "worksheets": [
  {
   "cells": [
    {
     "cell_type": "markdown",
     "metadata": {},
     "source": [
      "Beer Data Analysis\n",
      "==================\n",
      "\n",
      "Part 1: Loading into a dataframe\n",
      "--------------------------------\n",
      "\n",
      "The function in the following cell should return a full dataframe of beer data, at the rating level. It should contain all relevant information from continent all the way to rating.\n",
      "\n",
      "#### TODO\n",
      "- Process rating text"
     ]
    },
    {
     "cell_type": "code",
     "collapsed": false,
     "input": [
      "from Scraper.Parser import Continent, Country, Location, Brewery, Beer, UserRating\n",
      "import psycopg2\n",
      "from pandas import read_sql_query, DataFrame\n",
      "\n",
      "\n",
      "def load(conn, continent=None, country=None, location=None, brewery=None, nLimit=None):\n",
      "    \"\"\" Loads a pandas dataframe with data from the db connection specified. If any\n",
      "        restrictions are passed, they will be applied to the query.\n",
      "    :param conn: the database connection object to be used\n",
      "    :type conn: psycopg2.connection\n",
      "    :param continent: a continent or list of continents, either by id or object. If \n",
      "                      not specified, all continents will be loaded\n",
      "    :type continent: int or Continent or list or None\n",
      "    :param country: a country or list of countries, either by id or object. If \n",
      "                      not specified, all countries will be loaded\n",
      "    :type country: int or Country or list or None\n",
      "    :param location: a location or list of locations, either by id or object. If \n",
      "                      not specified, all locations will be loaded\n",
      "    :type location: int or Location or list or None\n",
      "    :param brewery: a brewery or list of breweries, either by id or object. If \n",
      "                      not specified, all breweries will be loaded\n",
      "    :type brewery: int or Brewery or list or None\n",
      "    :param nLimit: an integer limiting the number of rows to load. If not specified,\n",
      "                   the function will try to load all rows returned from the query.\n",
      "    :type nLimit: int\"\"\"\n",
      "    \n",
      "    def writeCondition(field, fieldValue, fieldType, pName):\n",
      "        retField = fieldValue\n",
      "        if type(fieldValue) == int:\n",
      "            logicOper = ' = '\n",
      "        elif type(fieldValue) == fieldType:\n",
      "            logicOper = ' = '\n",
      "            retField = fieldValue.id\n",
      "        elif (isinstance(fieldValue, list) or\n",
      "              isinstance(fieldValue, tuple)):\n",
      "            logicOper = ' in '\n",
      "            if type(fieldValue[0]) == int:\n",
      "                retField = tuple(fieldValue)\n",
      "            elif isinstance(continent[0], fieldType):\n",
      "                retField = tuple([x.id for x in fieldValue])\n",
      "            else:\n",
      "                raise TypeError(\"{fType} list must be ints, or {fType}\".format(fType=str(fieldType)))\n",
      "        else:\n",
      "            raise TypeError(\"{fType} must be int, str or {fType}\".format(fType=str(fieldType)))\n",
      "        return '         and {} {} %({})s'.format(field, logicOper, pName), retField\n",
      "        \n",
      "    # Deal with parameters\n",
      "    conditions = {}\n",
      "    sql = ('select R.\"BEER_ID\" as \"beerId\", R.\"USER_ID\" as \"userId\", R.\"RATING_COMPOUND\" as \"ratingCompound\",'\n",
      "           '       R.\"RATING_AROMA\" as \"ratingAroma\", R.\"RATING_APPEARANCE\" as \"ratingAppearance\",'\n",
      "           '       R.\"RATING_TASTE\" as \"ratingTaste\", R.\"RATING_PALATE\" as \"ratingPalate\",'\n",
      "           '       R.\"RATING_OVERALL\" as \"ratingOverall\", R.\"RATING_LOCATION\" as \"ratingLocation\",'\n",
      "           '       date(R.\"RATING_DATE\") as \"ratingDate\", R.\"RATING_NOTES\" as \"ratingNotes\",'\n",
      "           '       C.\"CONT_ID\" as \"contId\", C.\"COUNTRY_ID\" as \"countryId\", L.\"LOCATION_ID\" as \"locationId\",'\n",
      "           '       BR.\"BREWERY_ID\" as \"breweryId\", B.\"BEER_NAME\" as \"beerName\", B.\"BEER_STYLE_ID\" as \"beerStyleId\",'\n",
      "           '       B.\"BEER_STYLE_NAME\" as \"beerStyleName\", B.\"BEER_CITY_ID\" as \"beerCityId\",'\n",
      "           '       B.\"BEER_CITY_NAME\" as \"beerCityName\", B.\"BEER_ABV\" as \"beerAbv\", B.\"BEER_IBU\" as \"beerIbu\",'\n",
      "           '       B.\"BEER_CALORIES\" as \"beerCalories\", B.\"BEER_AVAIL_BOTTLE\" as \"beerAvailBottle\",'\n",
      "           '       B.\"BEER_AVAIL_TAP\" as \"beerAvailTap\", B.\"BEER_SEASONAL\" as \"beerSeasonal\",'\n",
      "           '       B.\"BEER_OVERALL_RATING\" as \"beerOverallRating\", B.\"BEER_AVG_RATING\" as \"beerAvgRating\",'\n",
      "           '       B.\"BEER_STYLE_RATING\" as \"beerStyleRating\", B.\"BEER_NRATINGS\" as \"beerNratings\",'\n",
      "           '       B.\"BEER_DISTRIBUTION\" as \"beerDistribution\", BR.\"BREWERY_NAME\" as \"breweryName\",'\n",
      "           '       BR.\"BREWERY_TYPE\" as \"breweryType\", BR.NUMBER_BEERS as \"numberBeers\",'\n",
      "           '       BR.YEAR_ESTABLISHED as \"yearEstablished\",'\n",
      "           '       L.\"LOCATION_NAME\" as \"locationName\", C.\"COUNTRY_NAME\" as \"countryName\"'\n",
      "           '   from tb_rating R,'\n",
      "           '        tb_beer B,'\n",
      "           '        tb_brewery BR,'\n",
      "           '        tb_location L,'\n",
      "           '        tb_country C'\n",
      "           '   where C.\"COUNTRY_ID\" = L.\"COUNTRY_ID\"'\n",
      "           '         and L.\"LOCATION_ID\" = BR.\"LOCATION_ID\"'\n",
      "           '         and BR.\"BREWERY_ID\" = B.\"BREWERY_ID\"'\n",
      "           '         and B.\"BEER_ID\" = R.\"BEER_ID\"')\n",
      "    if continent is not None:\n",
      "        cond, condValue = writeCondition('C.\"CONT_ID\"', continent, Continent, 'p1')\n",
      "        if cond is not None:\n",
      "            sql = sql + cond\n",
      "            conditions['p1'] = condValue\n",
      "    if country is not None:\n",
      "        cond, condValue = writeCondition('C.\"COUNTRY_ID\"', country, Country, 'p2')\n",
      "        if cond is not None:\n",
      "            sql = sql + cond\n",
      "            conditions['p2'] = condValue\n",
      "    if location is not None:\n",
      "        cond, condValue = writeCondition('L.\"LOCATION_ID\"', location, Location, 'p3')\n",
      "        if cond is not None:\n",
      "            sql = sql + cond\n",
      "            conditions['p3'] = condValue\n",
      "    if brewery is not None:\n",
      "        cond, condValue = writeCondition('BR.\"BREWERY_ID\"', brewery, Brewery, 'p4')\n",
      "        if cond is not None:\n",
      "            sql = sql + cond\n",
      "            conditions['p4'] = condValue\n",
      "    if nLimit is not None:\n",
      "        sql = sql + '   limit %(p5)s'\n",
      "        conditions['p5'] = nLimit\n",
      "\n",
      "    sql = sql + ';'\n",
      "    cur = conn.cursor()\n",
      "    sql = cur.mogrify(sql, conditions)\n",
      "    df = read_sql_query(sql, conn, coerce_float=True, params=None)\n",
      "    return df\n"
     ],
     "language": "python",
     "metadata": {},
     "outputs": [],
     "prompt_number": 43
    },
    {
     "cell_type": "markdown",
     "metadata": {},
     "source": [
      "### Preparing the call\n",
      "\n",
      "First, let's create the parameters and objects needed for the call"
     ]
    },
    {
     "cell_type": "code",
     "collapsed": false,
     "input": [
      "opts = {'destDb': 'BeerDb',\n",
      "        'userName': 'postgres',\n",
      "        'password': 'postgres',\n",
      "        'host': 'localhost',\n",
      "        'port': 5432,\n",
      "       } \n",
      "\n",
      "\n",
      "conn = psycopg2.connect(database=opts['destDb'], user=opts['userName'],\n",
      "                        password=opts['password'], host=opts['host'],\n",
      "                        port=opts['port'])\n",
      "\n",
      "df = load(conn, location=193, nLimit=100)"
     ],
     "language": "python",
     "metadata": {},
     "outputs": [],
     "prompt_number": 51
    },
    {
     "cell_type": "code",
     "collapsed": false,
     "input": [
      "df.shape"
     ],
     "language": "python",
     "metadata": {},
     "outputs": [
      {
       "metadata": {},
       "output_type": "pyout",
       "prompt_number": 52,
       "text": [
        "(100, 37)"
       ]
      }
     ],
     "prompt_number": 52
    },
    {
     "cell_type": "code",
     "collapsed": false,
     "input": [
      "df"
     ],
     "language": "python",
     "metadata": {},
     "outputs": [
      {
       "ename": "TypeError",
       "evalue": "unhashable type",
       "output_type": "pyerr",
       "traceback": [
        "\u001b[0;31m---------------------------------------------------------------------------\u001b[0m\n\u001b[0;31mTypeError\u001b[0m                                 Traceback (most recent call last)",
        "\u001b[0;32m<ipython-input-56-c5bcbb5505e4>\u001b[0m in \u001b[0;36m<module>\u001b[0;34m()\u001b[0m\n\u001b[0;32m----> 1\u001b[0;31m \u001b[0mdf\u001b[0m\u001b[0;34m[\u001b[0m\u001b[0;36m0\u001b[0m\u001b[0;34m,\u001b[0m\u001b[0;34m:\u001b[0m\u001b[0;34m]\u001b[0m\u001b[0;34m\u001b[0m\u001b[0m\n\u001b[0m",
        "\u001b[0;32m/usr/local/lib/python2.7/dist-packages/pandas/core/frame.pyc\u001b[0m in \u001b[0;36m__getitem__\u001b[0;34m(self, key)\u001b[0m\n\u001b[1;32m   1676\u001b[0m             \u001b[0;32mreturn\u001b[0m \u001b[0mself\u001b[0m\u001b[0;34m.\u001b[0m\u001b[0m_getitem_multilevel\u001b[0m\u001b[0;34m(\u001b[0m\u001b[0mkey\u001b[0m\u001b[0;34m)\u001b[0m\u001b[0;34m\u001b[0m\u001b[0m\n\u001b[1;32m   1677\u001b[0m         \u001b[0;32melse\u001b[0m\u001b[0;34m:\u001b[0m\u001b[0;34m\u001b[0m\u001b[0m\n\u001b[0;32m-> 1678\u001b[0;31m             \u001b[0;32mreturn\u001b[0m \u001b[0mself\u001b[0m\u001b[0;34m.\u001b[0m\u001b[0m_getitem_column\u001b[0m\u001b[0;34m(\u001b[0m\u001b[0mkey\u001b[0m\u001b[0;34m)\u001b[0m\u001b[0;34m\u001b[0m\u001b[0m\n\u001b[0m\u001b[1;32m   1679\u001b[0m \u001b[0;34m\u001b[0m\u001b[0m\n\u001b[1;32m   1680\u001b[0m     \u001b[0;32mdef\u001b[0m \u001b[0m_getitem_column\u001b[0m\u001b[0;34m(\u001b[0m\u001b[0mself\u001b[0m\u001b[0;34m,\u001b[0m \u001b[0mkey\u001b[0m\u001b[0;34m)\u001b[0m\u001b[0;34m:\u001b[0m\u001b[0;34m\u001b[0m\u001b[0m\n",
        "\u001b[0;32m/usr/local/lib/python2.7/dist-packages/pandas/core/frame.pyc\u001b[0m in \u001b[0;36m_getitem_column\u001b[0;34m(self, key)\u001b[0m\n\u001b[1;32m   1683\u001b[0m         \u001b[0;31m# get column\u001b[0m\u001b[0;34m\u001b[0m\u001b[0;34m\u001b[0m\u001b[0m\n\u001b[1;32m   1684\u001b[0m         \u001b[0;32mif\u001b[0m \u001b[0mself\u001b[0m\u001b[0;34m.\u001b[0m\u001b[0mcolumns\u001b[0m\u001b[0;34m.\u001b[0m\u001b[0mis_unique\u001b[0m\u001b[0;34m:\u001b[0m\u001b[0;34m\u001b[0m\u001b[0m\n\u001b[0;32m-> 1685\u001b[0;31m             \u001b[0;32mreturn\u001b[0m \u001b[0mself\u001b[0m\u001b[0;34m.\u001b[0m\u001b[0m_get_item_cache\u001b[0m\u001b[0;34m(\u001b[0m\u001b[0mkey\u001b[0m\u001b[0;34m)\u001b[0m\u001b[0;34m\u001b[0m\u001b[0m\n\u001b[0m\u001b[1;32m   1686\u001b[0m \u001b[0;34m\u001b[0m\u001b[0m\n\u001b[1;32m   1687\u001b[0m         \u001b[0;31m# duplicate columns & possible reduce dimensionaility\u001b[0m\u001b[0;34m\u001b[0m\u001b[0;34m\u001b[0m\u001b[0m\n",
        "\u001b[0;32m/usr/local/lib/python2.7/dist-packages/pandas/core/generic.pyc\u001b[0m in \u001b[0;36m_get_item_cache\u001b[0;34m(self, item)\u001b[0m\n\u001b[1;32m   1048\u001b[0m         \u001b[0;34m\"\"\" return the cached item, item represents a label indexer \"\"\"\u001b[0m\u001b[0;34m\u001b[0m\u001b[0m\n\u001b[1;32m   1049\u001b[0m         \u001b[0mcache\u001b[0m \u001b[0;34m=\u001b[0m \u001b[0mself\u001b[0m\u001b[0;34m.\u001b[0m\u001b[0m_item_cache\u001b[0m\u001b[0;34m\u001b[0m\u001b[0m\n\u001b[0;32m-> 1050\u001b[0;31m         \u001b[0mres\u001b[0m \u001b[0;34m=\u001b[0m \u001b[0mcache\u001b[0m\u001b[0;34m.\u001b[0m\u001b[0mget\u001b[0m\u001b[0;34m(\u001b[0m\u001b[0mitem\u001b[0m\u001b[0;34m)\u001b[0m\u001b[0;34m\u001b[0m\u001b[0m\n\u001b[0m\u001b[1;32m   1051\u001b[0m         \u001b[0;32mif\u001b[0m \u001b[0mres\u001b[0m \u001b[0;32mis\u001b[0m \u001b[0mNone\u001b[0m\u001b[0;34m:\u001b[0m\u001b[0;34m\u001b[0m\u001b[0m\n\u001b[1;32m   1052\u001b[0m             \u001b[0mvalues\u001b[0m \u001b[0;34m=\u001b[0m \u001b[0mself\u001b[0m\u001b[0;34m.\u001b[0m\u001b[0m_data\u001b[0m\u001b[0;34m.\u001b[0m\u001b[0mget\u001b[0m\u001b[0;34m(\u001b[0m\u001b[0mitem\u001b[0m\u001b[0;34m)\u001b[0m\u001b[0;34m\u001b[0m\u001b[0m\n",
        "\u001b[0;31mTypeError\u001b[0m: unhashable type"
       ]
      }
     ],
     "prompt_number": 56
    }
   ],
   "metadata": {}
  }
 ]
}